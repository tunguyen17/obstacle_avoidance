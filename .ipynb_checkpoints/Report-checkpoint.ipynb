{
 "cells": [
  {
   "cell_type": "markdown",
   "metadata": {},
   "source": [
    "# Agent \n",
    "\n",
    "Act rationally\n",
    "\n",
    "Always make the \"best\" decision given the available resources (knowledge, time, computational power and memory)\n",
    "\n",
    "Best: maximize certain performance measure(s), usually represented as a utility function. \n",
    "\n",
    "System that behave rationally; system that accomplish what it is supposed to do, well, given the available resources. \n",
    "\n",
    "An agent is a computer program that\n",
    "\n",
    "- gathers information about an environment, and\n",
    "- takes actions autonomously based on that information\n",
    "\n",
    "## Components\n",
    "\n",
    "A: action space\n",
    "\n",
    "- the set of all actions the agent can do\n",
    "\n",
    "O: percept space\n",
    "\n",
    "- the set of all things the agent can perceieve in the world\n",
    "\n",
    "S: state space\n",
    "\n",
    "- internal state of the agent & the environment that matters for the interaction between the agent & and the environment\n",
    "\n",
    "Wolrd dynamics: $T: S \\times A \\rightarrow S$\n",
    "\n",
    "Perception function: $Z: S \\rightarrow O$\n",
    "\n",
    "\n",
    "U Utility function: A function that assings a value to each states, to indicate the desirability of being in such a state with respect to the agent's task.\n",
    "\n",
    "------\n",
    "\n",
    "## Design an agent\n",
    "\n",
    "A\n",
    "\n",
    "O\n",
    "\n",
    "S\n",
    "\n",
    "$T: S \\times A \\rightarrow S$\n",
    "\n",
    "$Z: S \\rightarrow O$\n",
    "\n",
    "$U: S \\rightarrow$ real number\n",
    "\n",
    "\n",
    "## In this project\n",
    "\n",
    "A: \n",
    "\n",
    "- 0: steer left\n",
    "- 1: keep straight\n",
    "- 2: steer right\n",
    "\n",
    "O:\n",
    "\n",
    "$(s_0, s_1, s_2, s_3, s_4) \\in \\mathbb{R}^5 $\n",
    "\n",
    "such that $ 0 \\leq s_i \\leq 50 $ for $ 0 \\leq i \\leq 4 $\n",
    "\n",
    "S: \n",
    "\n",
    "$(s_0, s_1, s_2, s_3, s_4) \\in \\mathbb{R}^5 $\n",
    "\n",
    "such that $ 0 \\leq s_i \\leq 1 $ for $ 0 \\leq i \\leq 4 $\n",
    "\n",
    "Z: resscale so that the sensor input is from 0 to 1\n",
    "\n",
    "Utility function\n",
    "\n",
    "- $-500$ if crashed\n",
    "- $ -50* (\\min(s_0, s_1, s_2, s_3, s_4) - 1 )^4 + 50$\n",
    "\n",
    "\n",
    "## Goal \n",
    "\n",
    "find a mapping sequences of percepts to action P* -> that maximizes the utility function. \n",
    "\n",
    "given the sequences of percepts it has seen so far, what should the agent do next, so that the utility function can be maximized\n",
    "\n",
    "\n",
    "# Markov Decision Processes (MDPs)\n",
    "\n",
    "\n",
    "http://robotics.itee.uq.edu.au/~ai/doku.php/wiki/schedule\n",
    "http://robotics.itee.uq.edu.au/~ai/lib/exe/fetch.php/wiki/introtoai-aftclass.pdf\n",
    "http://robotics.itee.uq.edu.au/~ai/lib/exe/fetch.php/wiki/planunderunc3-mdp-aftlec.pdf\n",
    "http://robotics.itee.uq.edu.au/~ai/lib/exe/fetch.php/wiki/mdp-v2.pdf\n",
    "http://robotics.itee.uq.edu.au/~ai/lib/exe/fetch.php/wiki/introtoml-rl-aftlec.pdf\n",
    "http://robotics.itee.uq.edu.au/~ai/lib/exe/fetch.php/wiki/rl2.pdf\n",
    "\n",
    "\n",
    "# Markov Decision Processes (MDPs)\n",
    "\n",
    "A framework to find the best sequence of actions to perform when the outcome of each action is non-deterministic. "
   ]
  },
  {
   "cell_type": "code",
   "execution_count": 3,
   "metadata": {},
   "outputs": [],
   "source": [
    "import numpy as np\n",
    "import matplotlib.pyplot as plt"
   ]
  },
  {
   "cell_type": "code",
   "execution_count": 33,
   "metadata": {
    "scrolled": true
   },
   "outputs": [
    {
     "data": {
      "image/png": "[encoded data removed]",
      "text/plain": [
       "<Figure size 432x288 with 1 Axes>"
      ]
     },
     "metadata": {},
     "output_type": "display_data"
    }
   ],
   "source": [
    "def r(x, coeff = 50, power = 3):\n",
    "    return -50*(x-1)**4 + 50\n",
    "\n",
    "x = np.arange(0,1, 0.001)\n",
    "\n",
    "plt.plot(x, r(x), '-b')\n",
    "# plt.ylim(0,55)\n",
    "plt.show()"
   ]
  },
  {
   "cell_type": "code",
   "execution_count": null,
   "metadata": {},
   "outputs": [],
   "source": [
    "def g(x, coeff = 50, power = 3):\n",
    "    return coeff * x ** power"
   ]
  },
  {
   "cell_type": "code",
   "execution_count": 112,
   "metadata": {},
   "outputs": [
    {
     "data": {
      "image/png": "[encoded data removed]",
      "text/plain": [
       "<Figure size 432x288 with 1 Axes>"
      ]
     },
     "metadata": {},
     "output_type": "display_data"
    }
   ],
   "source": [
    "g = lambda x : 0.4 * (x ** 2 + 1) /  (x ** 2 + 10**7) + 0.5\n",
    "\n",
    "x = np.arange(0, 10000, 0.1)\n",
    "\n",
    "plt.plot(x, g(x), '-b')\n",
    "\n",
    "plt.axhline(y=0.9, ls = '--', color='r')\n",
    "\n",
    "plt.ylim(0,1)\n",
    "plt.show()"
   ]
  },
  {
   "cell_type": "code",
   "execution_count": null,
   "metadata": {},
   "outputs": [],
   "source": []
  }
 ],
 "metadata": {
  "kernelspec": {
   "display_name": "Python 3",
   "language": "python",
   "name": "python3"
  },
  "language_info": {
   "codemirror_mode": {
    "name": "ipython",
    "version": 3
   },
   "file_extension": ".py",
   "mimetype": "text/x-python",
   "name": "python",
   "nbconvert_exporter": "python",
   "pygments_lexer": "ipython3",
   "version": "3.6.4"
  }
 },
 "nbformat": 4,
 "nbformat_minor": 2
}
