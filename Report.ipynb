{
 "cells": [
  {
   "cell_type": "markdown",
   "metadata": {},
   "source": [
    "# AI\n",
    "\n",
    "Steven Pinker - How the Mind Works (1997)\n",
    " \n",
    " \"Intelligence, then, is the ability to attain goals in the face of obstacles by means of decisions based on rational (truth-obeying) rules.\"\n",
    " \n",
    " \n",
    " behave \\textbf{rationally} given the available resources (time, computational power, sensors\\dots)\n",
    " \n",
    " autonomously made the \"best\" decision to accomplish a given goal or to maximize payoff.\n",
    "\n",
    "# Agent \n",
    "\n",
    "Act rationally\n",
    "\n",
    "Always make the \"best\" decision given the available resources (knowledge, time, computational power and memory)\n",
    "\n",
    "Best: maximize certain performance measure(s), usually represented as a utility function. \n",
    "\n",
    "System that behave rationally; system that accomplish what it is supposed to do, well, given the available resources. \n",
    "\n",
    "An agent is a computer program that\n",
    "\n",
    "- gathers information about an environment, and\n",
    "- takes actions autonomously based on that information\n",
    "\n",
    "# Environment\n",
    "\n",
    "Discrete vs continuous\n",
    "\n",
    "- Do the sensors return integer or Real numbers?\n",
    "\n",
    "Deterministic vs non-deterministic\n",
    "\n",
    "- Does the agent know exactly which state it will be after performing a action at a particular state?\n",
    "\n",
    "Fully observable or partially observable\n",
    "\n",
    "- can the agent see the whole environment at one time?\n",
    "\n",
    "Statis or dynamics\n",
    "\n",
    "- is  the environment changing as the agent think?\n",
    "\n",
    "\n",
    "\n",
    "\n",
    "## Components\n",
    "\n",
    "A: action space\n",
    "\n",
    "- the set of all actions the agent can do\n",
    "\n",
    "O: percept space\n",
    "\n",
    "- the set of all things the agent can perceieve in the world\n",
    "\n",
    "S: state space\n",
    "\n",
    "- internal state of the agent & the environment that matters for the interaction between the agent & and the environment\n",
    "\n",
    "Wolrd dynamics: $T: S \\times A \\rightarrow S$\n",
    "\n",
    "Perception function: $Z: S \\rightarrow O$\n",
    "\n",
    "\n",
    "U Utility function: A function that assings a value to each states, to indicate the desirability of being in such a state with respect to the agent's task.\n",
    "\n",
    "------\n",
    "\n",
    "## Design an agent\n",
    "\n",
    "A\n",
    "\n",
    "O\n",
    "\n",
    "S\n",
    "\n",
    "$T: S \\times A \\rightarrow S$\n",
    "\n",
    "$Z: S \\rightarrow O$\n",
    "\n",
    "$U: S \\rightarrow$ real number\n",
    "\n",
    "\n",
    "## In this project\n",
    "\n",
    "A: \n",
    "\n",
    "- 0: steer left\n",
    "- 1: keep straight\n",
    "- 2: steer right\n",
    "\n",
    "O:\n",
    "\n",
    "$(s_0, s_1, s_2, s_3, s_4) \\in \\mathbb{R}^5 $\n",
    "\n",
    "such that $ 0 \\leq s_i \\leq 50 $ for $ 0 \\leq i \\leq 4 $\n",
    "\n",
    "S: \n",
    "\n",
    "$(s_0, s_1, s_2, s_3, s_4) \\in \\mathbb{R}^5 $\n",
    "\n",
    "such that $ 0 \\leq s_i \\leq 1 $ for $ 0 \\leq i \\leq 4 $\n",
    "\n",
    "Z: resscale so that the sensor input is from 0 to 1\n",
    "\n",
    "Utility function\n",
    "\n",
    "- $-500$ if crashed\n",
    "- $ -50* (\\min(s_0, s_1, s_2, s_3, s_4) - 1 )^4 + 50$\n",
    "\n",
    "\n",
    "## Goal \n",
    "\n",
    "find a mapping sequences of percepts to action P* -> that maximizes the utility function. \n",
    "\n",
    "given the sequences of percepts it has seen so far, what should the agent do next, so that the utility function can be maximized\n",
    "\n",
    "## Types of machine learning\n",
    "\n",
    "supervised learning \n",
    "\n",
    "unsupervised learning\n",
    "\n",
    "reinforcement learning \n",
    "\n",
    "# Markov Decision Processes (MDPs)\n",
    "\n",
    "A framework to find the best sequence of actions to perform when the outcome of each action is non-deterministic.\n",
    "\n",
    "The non-determinism must be $1^{st}$ order Markov.\n",
    "\n",
    "$1^{st}$ order Markov means given the present state, the future states are independent from the past states.\n",
    "\n",
    "$$P(s^{t+1} | s^t, a^t) = P(s^{t+1} | s^t, a^t, s^{t-1}, a^{t-1}, \\dots, s^1, a^1, s^0)$$\n",
    "\n",
    "MDP Problem is formally defnied as 4-tuples $(S, A, T, R)$:\n",
    "\n",
    "$S$ State Space\n",
    "\n",
    "$A$ Action Space\n",
    "\n",
    "$T$ transition function \n",
    "\n",
    "$$T(s, a, s') = P(S_{t+1} = s' | S_t = s, A_t = a)$$\n",
    "\n",
    "R reward function\n",
    "\n",
    "$$R(s, a)$$\n",
    "\n",
    "## policy ($\\pi$)\n",
    "\n",
    "Policy = strategy\n",
    "\n",
    "- a mapping from states to actions $\\pi: S \\rightarrow A$.\n",
    "- meaning for any states s in S, $\\pi(s)$ will tell us what action the agent should perform. \n",
    "\n",
    "Optimal policy ($\\pi*$)\n",
    "\n",
    "Meaning for any state s in S, $\\pi*(s)$ will tell us what is the best action the agent should perform. \n",
    "\n",
    "\n",
    "## Goal\n",
    "\n",
    "The goal of an MDP agent is to perform actions so as to gather the highest total reward possible. \n",
    "\n",
    "\n",
    "# Exploration vs Exploitation \n",
    "\n",
    "exploit: the knowledge that it has found for the current state s by doing one of the action a that maximizes Q(s,a)\n",
    "\n",
    "explore in order to build a better estimate of the optimal Q-function. That is, it should select a different action from the one that is currently thinks is best. \n",
    "\n",
    "## $\\epsilon$-greedy \n",
    "\n",
    "select the greedy action all but $\\epsilon$ of the time \n",
    "\n",
    "select random action $\\epsilon$ of the time, where $0 \\leq \\epsilon \\leq 1$\n",
    "\n",
    "\n",
    "\n",
    "# Q-learning \n",
    "\n",
    "Reinforecemnt learning : learn by doing\n",
    "\n",
    "$Q*(s,a)$ is the expected value (cumulative discounted reward) of doing action $a$ in state $s$ and the following the optimal policy. \n",
    "\n",
    "Q-learning uses temporal differences to estimate the value of $Q*(s,a)$\n",
    "\n",
    "an experience is a tuple (s, a, r, s')\n",
    "\n",
    "An experience (s, a, r, s') provides one data point for the value Q(s,a). \n",
    "\n",
    "$Q(s, a) \\leftarrow (1-\\alpha) Q(s,a) + \\alpha(r + \\gamma \\max_{a'}Q(s',a'))$\n",
    "\n",
    "\n",
    "Temporal Difference is an approach to learn how to predict a quanity that depents on future value of a given signal\n",
    "\n",
    "\n",
    "https://cs.stanford.edu/people/karpathy/reinforcejs/gridworld_td.html\n",
    "\n",
    "\n",
    "# The curse of dimentionality\n",
    "\n",
    "Q-matrix state by action\n",
    "\n",
    "$Q[s, a]$ repesent the estimated Q value at state s performing action a. \n",
    "\n",
    "# Neural network and Q-learing\n",
    "\n",
    "https://storage.googleapis.com/deepmind-media/dqn/DQNNaturePaper.pdf\n",
    "\n",
    "# Neural Network\n",
    "\n",
    "# Experienced Replay\n",
    "\n",
    "More efficient use of previous experience, by learning with it multiple times. This is key when gaining real-world experience is costly, you can get full use of it. The Q-learning updates are incremental and do not converge quickly, so multiple passes with the same data is beneficial, especially when there is low variance in immediate outcomes (reward, next state) given the same state, action pair.\n",
    "\n",
    "Better convergence behaviour when training a function approximator. Partly this is because the data is more like i.i.d. data assumed in most supervised learning convergence proofs.\n",
    "\n",
    "\n",
    "# Implementation\n"
   ]
  },
  {
   "cell_type": "markdown",
   "metadata": {},
   "source": [
    "# References\n",
    "\n",
    "http://robotics.itee.uq.edu.au/~ai/doku.php/wiki/schedule\n",
    "\n",
    "http://artint.info/html/ArtInt_265.html"
   ]
  },
  {
   "cell_type": "code",
   "execution_count": 10,
   "metadata": {},
   "outputs": [],
   "source": [
    "import numpy as np\n",
    "import matplotlib.pyplot as plt"
   ]
  },
  {
   "cell_type": "code",
   "execution_count": 33,
   "metadata": {
    "scrolled": true
   },
   "outputs": [
    {
     "data": {
      "image/png": "[encoded data removed]",
      "text/plain": [
       "<Figure size 432x288 with 1 Axes>"
      ]
     },
     "metadata": {},
     "output_type": "display_data"
    }
   ],
   "source": [
    "def r(x, coeff = 50, power = 3):\n",
    "    return -50*(x-1)**4 + 50\n",
    "\n",
    "x = np.arange(0,1, 0.001)\n",
    "\n",
    "plt.plot(x, r(x), '-b')\n",
    "# plt.ylim(0,55)\n",
    "plt.show()"
   ]
  },
  {
   "cell_type": "code",
   "execution_count": null,
   "metadata": {},
   "outputs": [],
   "source": [
    "def g(x, coeff = 50, power = 3):\n",
    "    return coeff * x ** power"
   ]
  },
  {
   "cell_type": "code",
   "execution_count": 112,
   "metadata": {},
   "outputs": [
    {
     "data": {
      "image/png": "[encoded data removed]",
      "text/plain": [
       "<Figure size 432x288 with 1 Axes>"
      ]
     },
     "metadata": {},
     "output_type": "display_data"
    }
   ],
   "source": [
    "g = lambda x : 0.4 * (x ** 2 + 1) /  (x ** 2 + 10**7) + 0.5\n",
    "\n",
    "x = np.arange(0, 10000, 0.1)\n",
    "\n",
    "plt.plot(x, g(x), '-b')\n",
    "\n",
    "plt.axhline(y=0.9, ls = '--', color='r')\n",
    "\n",
    "plt.ylim(0,1)\n",
    "plt.show()"
   ]
  },
  {
   "cell_type": "code",
   "execution_count": 26,
   "metadata": {},
   "outputs": [
    {
     "data": {
      "image/png": "[encoded data removed]",
      "text/plain": [
       "<Figure size 432x288 with 1 Axes>"
      ]
     },
     "metadata": {},
     "output_type": "display_data"
    }
   ],
   "source": [
    "loop = open('data/loop.txt')\n",
    "loop_data = loop.read()\n",
    "loop_data = loop_data.split('\\t')\n",
    "\n",
    "plt.plot([int(i) for i in loop_data[:-1]])\n",
    "plt.show()"
   ]
  },
  {
   "cell_type": "code",
   "execution_count": 25,
   "metadata": {},
   "outputs": [
    {
     "data": {
      "image/png": "[encoded data removed]",
      "text/plain": [
       "<Figure size 432x288 with 1 Axes>"
      ]
     },
     "metadata": {},
     "output_type": "display_data"
    }
   ],
   "source": [
    "brain = open('data/brain_data')\n",
    "brain_data = brain.read()\n",
    "brain_data = brain_data.split('\\t')\n",
    "\n",
    "plt.plot([float(i) for i in brain_data[:-1]])\n",
    "plt.show()"
   ]
  },
  {
   "cell_type": "code",
   "execution_count": null,
   "metadata": {},
   "outputs": [],
   "source": []
  }
 ],
 "metadata": {
  "kernelspec": {
   "display_name": "Python 3",
   "language": "python",
   "name": "python3"
  },
  "language_info": {
   "codemirror_mode": {
    "name": "ipython",
    "version": 3
   },
   "file_extension": ".py",
   "mimetype": "text/x-python",
   "name": "python",
   "nbconvert_exporter": "python",
   "pygments_lexer": "ipython3",
   "version": "3.6.4"
  }
 },
 "nbformat": 4,
 "nbformat_minor": 2
}
